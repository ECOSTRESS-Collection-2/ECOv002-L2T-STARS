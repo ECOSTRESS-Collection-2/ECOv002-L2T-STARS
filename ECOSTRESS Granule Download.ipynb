{
 "cells": [
  {
   "cell_type": "code",
   "execution_count": 1,
   "metadata": {},
   "outputs": [
    {
     "ename": "SyntaxError",
     "evalue": "invalid syntax (VNP09GA.py, line 29)",
     "output_type": "error",
     "traceback": [
      "Traceback \u001b[0;36m(most recent call last)\u001b[0m:\n",
      "\u001b[0m  File \u001b[1;32m/opt/homebrew/Caskroom/mambaforge/base/envs/ECOv002-L2T-STARS/lib/python3.11/site-packages/IPython/core/interactiveshell.py:3577\u001b[0m in \u001b[1;35mrun_code\u001b[0m\n    exec(code_obj, self.user_global_ns, self.user_ns)\u001b[0m\n",
      "\u001b[0m  Cell \u001b[1;32mIn[1], line 3\u001b[0m\n    from ECOv002_L2T_STARS import generate_L2T_STARS_runconfig\u001b[0m\n",
      "\u001b[0m  File \u001b[1;32m~/Projects/ECOv002-L2T-STARS/ECOv002_L2T_STARS/__init__.py:1\u001b[0m\n    from .L2T_STARS import *\u001b[0m\n",
      "\u001b[0m  File \u001b[1;32m~/Projects/ECOv002-L2T-STARS/ECOv002_L2T_STARS/L2T_STARS.py:37\u001b[0m\n    from .VNP43NRT import VNP43NRT\u001b[0m\n",
      "\u001b[0m  File \u001b[1;32m~/Projects/ECOv002-L2T-STARS/ECOv002_L2T_STARS/VNP43NRT/__init__.py:1\u001b[0m\n    from .VNP43NRT import *\u001b[0m\n",
      "\u001b[0;36m  File \u001b[0;32m~/Projects/ECOv002-L2T-STARS/ECOv002_L2T_STARS/VNP43NRT/VNP43NRT.py:26\u001b[0;36m\n\u001b[0;31m    from ..VIIRS.VNP09GA import VNP09GA, VNP09GAGranule, ALBEDO_COLORMAP, NDVI_COLORMAP, VIIRSUnavailableError\u001b[0;36m\n",
      "\u001b[0;36m  File \u001b[0;32m~/Projects/ECOv002-L2T-STARS/ECOv002_L2T_STARS/VIIRS/VNP09GA.py:29\u001b[0;36m\u001b[0m\n\u001b[0;31m    import ..ecostress_cmr\u001b[0m\n\u001b[0m           ^\u001b[0m\n\u001b[0;31mSyntaxError\u001b[0m\u001b[0;31m:\u001b[0m invalid syntax\n"
     ]
    }
   ],
   "source": [
    "import numpy as np\n",
    "from ECOv002_CMR import download_ECOSTRESS_granule\n",
    "from ECOv002_L2T_STARS import generate_L2T_STARS_runconfig"
   ]
  },
  {
   "cell_type": "code",
   "execution_count": null,
   "metadata": {},
   "outputs": [],
   "source": [
    "aquisition_date = \"2024-10-22\"\n",
    "orbit = 35698\n",
    "scene = 14\n",
    "tile = \"11SPS\"\n",
    "parent_directory = \"data/\""
   ]
  },
  {
   "cell_type": "code",
   "execution_count": null,
   "metadata": {},
   "outputs": [],
   "source": [
    "L2T_LSTE_granule = download_ECOSTRESS_granule(\n",
    "    product=\"L2T_LSTE\", \n",
    "    orbit=orbit,\n",
    "    scene=scene,\n",
    "    tile=tile, \n",
    "    aquisition_date=aquisition_date,\n",
    "    parent_directory=parent_directory\n",
    ")\n",
    "\n",
    "L2T_LSTE_granule"
   ]
  },
  {
   "cell_type": "code",
   "execution_count": null,
   "metadata": {},
   "outputs": [],
   "source": [
    "L2T_LSTE_granule.ST_C"
   ]
  },
  {
   "cell_type": "code",
   "execution_count": null,
   "metadata": {},
   "outputs": [],
   "source": [
    "L2T_STARS_granule = download_ECOSTRESS_granule(\n",
    "    product=\"L2T_STARS\", \n",
    "    tile=tile, \n",
    "    aquisition_date=aquisition_date,\n",
    "    parent_directory=parent_directory\n",
    ")\n",
    "\n",
    "L2T_STARS_granule"
   ]
  },
  {
   "cell_type": "code",
   "execution_count": null,
   "metadata": {},
   "outputs": [],
   "source": [
    "L2T_STARS_granule.NDVI"
   ]
  },
  {
   "cell_type": "code",
   "execution_count": null,
   "metadata": {},
   "outputs": [],
   "source": []
  }
 ],
 "metadata": {
  "kernelspec": {
   "display_name": "ECOv002-L2T-STARS",
   "language": "python",
   "name": "python3"
  },
  "language_info": {
   "codemirror_mode": {
    "name": "ipython",
    "version": 3
   },
   "file_extension": ".py",
   "mimetype": "text/x-python",
   "name": "python",
   "nbconvert_exporter": "python",
   "pygments_lexer": "ipython3",
   "version": "3.11.10"
  }
 },
 "nbformat": 4,
 "nbformat_minor": 2
}
